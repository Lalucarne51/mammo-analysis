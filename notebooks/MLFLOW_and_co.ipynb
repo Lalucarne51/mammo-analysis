{
 "cells": [
  {
   "cell_type": "markdown",
   "metadata": {},
   "source": [
    "# PACKAGING"
   ]
  },
  {
   "cell_type": "code",
   "execution_count": null,
   "metadata": {},
   "outputs": [],
   "source": [
    "# TRACK EXPERIMENT AND SAVE MODEL\n",
    "\n",
    "import mlflow\n",
    "\n",
    "mlflow.set_tracking_uri(\"https://mlflow.lewagon.ai\")\n",
    "mlflow.set_experiment(experiment_name=\"wagoncab taxifare\")\n",
    "with mlflow.start_run():\n",
    "\n",
    "    params = dict(batch_size=256, row_count=100_000)\n",
    "    metrics = dict(rmse=0.456)\n",
    "\n",
    "    mlflow.log_params(params)\n",
    "    mlflow.log_metrics(metrics)\n",
    "\n",
    "    mlflow.tensorflow.log_model(model=model,\n",
    "                                artifact_path=\"model\",\n",
    "                                registered_model_name=\"taxifare_model\"\n",
    "\n",
    "# UPLOAD MODEL\n",
    "\n",
    "import mlflow\n",
    "\n",
    "mlflow.set_tracking_uri(\"https://mlflow.lewagon.ai\")\n",
    "\n",
    "model_uri = \"models:/taxifare_model/Production\"\n",
    "\n",
    "model = mlflow.tensorflow.load_model(model_uri=model_uri)\n",
    "    )"
   ]
  },
  {
   "cell_type": "code",
   "execution_count": null,
   "metadata": {},
   "outputs": [],
   "source": [
    "# PREFECT\n",
    "\n",
    "from prefect import task, flow\n",
    "\n",
    "# Define your tasks\n",
    "@task\n",
    "def task1(*args, **kwargs):\n",
    "  pass\n",
    "\n",
    "@task\n",
    "def task2(*args, **kwargs):\n",
    "  pass\n",
    "\n",
    "# Define your workflow\n",
    "@flow\n",
    "def myworkflow():\n",
    "    # Define the orchestration graph (\"DAG\")\n",
    "    task1_future = task1.submit(*args, **kwargs)\n",
    "    task2_future = task2.submit(*args, **kwargs, wait_for = [task1_future]) # <-- task2 starts only after task1\n",
    "\n",
    "    # Compute your results as actual python object\n",
    "    task1_result = task1_future.result()\n",
    "    task2_result = task2_future.result()\n",
    "\n",
    "    # Do something with the results (e.g. compare them)\n",
    "    assert task1_result < task2_result\n",
    "\n",
    "# Actually launch your workflow\n",
    "if __name__ == 'main':\n",
    "    myworkflow()"
   ]
  },
  {
   "cell_type": "code",
   "execution_count": 1,
   "metadata": {},
   "outputs": [
    {
     "name": "stdout",
     "output_type": "stream",
     "text": [
      "mammmo_data_victor\n",
      "mammo_data\n"
     ]
    }
   ],
   "source": [
    "# REACH BLOB IN GCP\n",
    "\n",
    "from google.cloud import storage\n",
    "\n",
    "client = storage.Client(project='mammo-analysis')\n",
    "bucket = client.bucket('mammo_data')\n",
    "blobs = list(client.list_buckets())\n",
    "for blob in blobs:\n",
    "    print(blob.name)"
   ]
  },
  {
   "cell_type": "code",
   "execution_count": 2,
   "metadata": {},
   "outputs": [
    {
     "name": "stdout",
     "output_type": "stream",
     "text": [
      "/home/pierrepal/gcp/mammo-analysis-2268c5276ee0.json\n"
     ]
    }
   ],
   "source": [
    "!echo $GOOGLE_APPLICATION_CREDENTIALS"
   ]
  },
  {
   "cell_type": "code",
   "execution_count": 3,
   "metadata": {},
   "outputs": [],
   "source": [
    "# SET GOOGLE CREDENTIALS FORM JUPYTER NOTEBOOK\n",
    "\n",
    "import os\n",
    "os.environ[\"GOOGLE_APPLICATION_CREDENTIALS\"]=\"/home/pierrepal/gcp/mammo-analysis-2268c5276ee0.json\""
   ]
  }
 ],
 "metadata": {
  "kernelspec": {
   "display_name": "mammo-analysis",
   "language": "python",
   "name": "python3"
  },
  "language_info": {
   "codemirror_mode": {
    "name": "ipython",
    "version": 3
   },
   "file_extension": ".py",
   "mimetype": "text/x-python",
   "name": "python",
   "nbconvert_exporter": "python",
   "pygments_lexer": "ipython3",
   "version": "3.10.6"
  }
 },
 "nbformat": 4,
 "nbformat_minor": 2
}
