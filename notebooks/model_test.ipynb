{
 "cells": [
  {
   "cell_type": "markdown",
   "metadata": {},
   "source": [
    "# TEST MODEL"
   ]
  },
  {
   "cell_type": "code",
   "execution_count": 12,
   "metadata": {},
   "outputs": [
    {
     "data": {
      "text/plain": [
       "(5355, 4915)"
      ]
     },
     "execution_count": 12,
     "metadata": {},
     "output_type": "execute_result"
    }
   ],
   "source": [
    "from PIL import Image\n",
    "import numpy as np\n",
    "\n",
    "img = \"../data_processed/20240306/10006_jpg/UnknownDate_UnknownTime_UnknownModality_UnknownAccNum/Ser_462822612.jpg\"\n",
    "# load the image and convert into\n",
    "# numpy array\n",
    "img2 = Image.open(img)\n",
    "\n",
    "# asarray() class is used to convert\n",
    "# PIL images into NumPy arrays\n",
    "numpydata = np.array(img2)\n",
    "\n",
    "numpydata.shape\n",
    "# <class 'numpy.ndarray'>\n",
    "#print(type(numpydata))\n",
    "# numpydata.shape\n",
    "#  shape\n"
   ]
  },
  {
   "cell_type": "code",
   "execution_count": 3,
   "metadata": {},
   "outputs": [
    {
     "name": "stdout",
     "output_type": "stream",
     "text": [
      "Original size : (4915, 5355)\n"
     ]
    }
   ],
   "source": [
    "###################### RESIZED ############################\n",
    "\n",
    "\n",
    "from PIL import Image\n",
    "\n",
    "image = Image.open('image.jpg')\n",
    "print(f\"Original size : {image.size}\") # 5464x3640\n",
    "\n",
    "sunset_resized = image.resize((256,256))\n",
    "sunset_resized.save('image_256.jpeg')"
   ]
  },
  {
   "cell_type": "code",
   "execution_count": 8,
   "metadata": {},
   "outputs": [
    {
     "name": "stdout",
     "output_type": "stream",
     "text": [
      "<class 'PIL.Image.Image'>\n",
      "Image saved successfully ...\n"
     ]
    },
    {
     "ename": "AttributeError",
     "evalue": "'NoneType' object has no attribute 'save'",
     "output_type": "error",
     "traceback": [
      "\u001b[0;31m---------------------------------------------------------------------------\u001b[0m",
      "\u001b[0;31mAttributeError\u001b[0m                            Traceback (most recent call last)",
      "Cell \u001b[0;32mIn[8], line 14\u001b[0m\n\u001b[1;32m     12\u001b[0m rgb_im \u001b[38;5;241m=\u001b[39m rgb_im\u001b[38;5;241m.\u001b[39msave(\u001b[38;5;124m'\u001b[39m\u001b[38;5;124mimage_cropped_.jpeg\u001b[39m\u001b[38;5;124m'\u001b[39m)\n\u001b[1;32m     13\u001b[0m \u001b[38;5;28mprint\u001b[39m(\u001b[38;5;124m\"\u001b[39m\u001b[38;5;124mImage saved successfully ...\u001b[39m\u001b[38;5;124m\"\u001b[39m)\n\u001b[0;32m---> 14\u001b[0m image_cropped_ \u001b[38;5;241m=\u001b[39m \u001b[43mrgb_im\u001b[49m\u001b[38;5;241;43m.\u001b[39;49m\u001b[43msave\u001b[49m(\u001b[38;5;124m'\u001b[39m\u001b[38;5;124mimage_cropped_.jpeg\u001b[39m\u001b[38;5;124m'\u001b[39m)\n",
      "\u001b[0;31mAttributeError\u001b[0m: 'NoneType' object has no attribute 'save'"
     ]
    }
   ],
   "source": [
    "##################### RESIZED FROM SIDES ########################\n",
    "\n",
    "from PIL import Image, ImageOps\n",
    "\n",
    "image = Image.open('image.jpg')\n",
    "cropped = ImageOps.crop(image, 256)\n",
    "cropped.save(\"image_cropped.jpg\")\n",
    "\n",
    "print(type(cropped))\n",
    "\n",
    "rgb_im = cropped.convert('RGB')\n",
    "rgb_im = rgb_im.save('image_cropped_.jpeg')\n",
    "print(\"Image saved successfully ...\")\n",
    "image_cropped_ = rgb_im.save('image_cropped_.jpeg')"
   ]
  },
  {
   "cell_type": "code",
   "execution_count": 24,
   "metadata": {},
   "outputs": [
    {
     "name": "stdout",
     "output_type": "stream",
     "text": [
      "tensor([[[0., 0., 0.,  ..., 0., 0., 0.],\n",
      "         [0., 0., 0.,  ..., 0., 0., 0.],\n",
      "         [0., 0., 0.,  ..., 0., 0., 0.],\n",
      "         ...,\n",
      "         [0., 0., 0.,  ..., 0., 0., 0.],\n",
      "         [0., 0., 0.,  ..., 0., 0., 0.],\n",
      "         [0., 0., 0.,  ..., 0., 0., 0.]],\n",
      "\n",
      "        [[0., 0., 0.,  ..., 0., 0., 0.],\n",
      "         [0., 0., 0.,  ..., 0., 0., 0.],\n",
      "         [0., 0., 0.,  ..., 0., 0., 0.],\n",
      "         ...,\n",
      "         [0., 0., 0.,  ..., 0., 0., 0.],\n",
      "         [0., 0., 0.,  ..., 0., 0., 0.],\n",
      "         [0., 0., 0.,  ..., 0., 0., 0.]],\n",
      "\n",
      "        [[0., 0., 0.,  ..., 0., 0., 0.],\n",
      "         [0., 0., 0.,  ..., 0., 0., 0.],\n",
      "         [0., 0., 0.,  ..., 0., 0., 0.],\n",
      "         ...,\n",
      "         [0., 0., 0.,  ..., 0., 0., 0.],\n",
      "         [0., 0., 0.,  ..., 0., 0., 0.],\n",
      "         [0., 0., 0.,  ..., 0., 0., 0.]]])\n"
     ]
    }
   ],
   "source": [
    "# CONVERTION EN TENSOR,\n",
    "# DEPUIS LE MEME DOSSIER !!!!!!!!!!\n",
    "\n",
    "# Import necessary libraries\n",
    "import torch\n",
    "from PIL import Image\n",
    "import torchvision.transforms as transforms\n",
    "from PIL import Image, ImageOps\n",
    "\"\"\"\n",
    "image = Image.open(f'{BUCKET_NAME}/{IMAGE_ID}.jpg')\n",
    "cropped = ImageOps.crop(image, 256)\n",
    "cropped.save(\"image_cropped.jpg\")\n",
    "\"\"\"\n",
    "image_test = Image.open('1335866.jpg')\n",
    "cropped = ImageOps.crop(image, 256)\n",
    "cropped.save(\"image_cropped_1335866.jpg\")\n",
    "\n",
    "\n",
    "# Read a PIL image\n",
    "image = cropped\n",
    "\n",
    "# Define a transform to convert PIL\n",
    "# image to a Torch tensor\n",
    "transform = transforms.Compose([\n",
    "    transforms.PILToTensor()\n",
    "])\n",
    "\n",
    "# transform = transforms.PILToTensor()\n",
    "# Convert the PIL image to Torch tensor\n",
    "img_tensor = transform(image)\n",
    "\n",
    "# print the converted Torch tensor\n",
    "print(img_tensor.float())"
   ]
  },
  {
   "cell_type": "code",
   "execution_count": 20,
   "metadata": {},
   "outputs": [
    {
     "ename": "NameError",
     "evalue": "name 'BUCKET_NAME' is not defined",
     "output_type": "error",
     "traceback": [
      "\u001b[0;31m---------------------------------------------------------------------------\u001b[0m",
      "\u001b[0;31mNameError\u001b[0m                                 Traceback (most recent call last)",
      "Cell \u001b[0;32mIn[20], line 10\u001b[0m\n\u001b[1;32m      7\u001b[0m \u001b[38;5;28;01mimport\u001b[39;00m \u001b[38;5;21;01mtorchvision\u001b[39;00m\u001b[38;5;21;01m.\u001b[39;00m\u001b[38;5;21;01mtransforms\u001b[39;00m \u001b[38;5;28;01mas\u001b[39;00m \u001b[38;5;21;01mtransforms\u001b[39;00m\n\u001b[1;32m      9\u001b[0m \u001b[38;5;66;03m# Crop and save a copy of the image\u001b[39;00m\n\u001b[0;32m---> 10\u001b[0m image \u001b[38;5;241m=\u001b[39m Image\u001b[38;5;241m.\u001b[39mopen(\u001b[38;5;124mf\u001b[39m\u001b[38;5;124m'\u001b[39m\u001b[38;5;132;01m{\u001b[39;00m\u001b[43mBUCKET_NAME\u001b[49m\u001b[38;5;132;01m}\u001b[39;00m\u001b[38;5;124m/\u001b[39m\u001b[38;5;132;01m{\u001b[39;00mIMAGE_ID\u001b[38;5;132;01m}\u001b[39;00m\u001b[38;5;124m.jpg\u001b[39m\u001b[38;5;124m'\u001b[39m)\n\u001b[1;32m     11\u001b[0m cropped \u001b[38;5;241m=\u001b[39m ImageOps\u001b[38;5;241m.\u001b[39mcrop(image, \u001b[38;5;241m256\u001b[39m)\n\u001b[1;32m     12\u001b[0m cropped\u001b[38;5;241m.\u001b[39msave(\u001b[38;5;124m\"\u001b[39m\u001b[38;5;124mimage_cropped.jpg\u001b[39m\u001b[38;5;124m\"\u001b[39m)\n",
      "\u001b[0;31mNameError\u001b[0m: name 'BUCKET_NAME' is not defined"
     ]
    }
   ],
   "source": [
    "# CONVERTION EN TENSOR,\n",
    "# DEPUIS LE MEME DOSSIER !!!!!!!!!!\n",
    "\n",
    "# Import necessary libraries\n",
    "import torch\n",
    "from PIL import Image, ImageOps\n",
    "import torchvision.transforms as transforms\n",
    "\n",
    "# Crop and save a copy of the image\n",
    "image = Image.open(f'{BUCKET_NAME}/{IMAGE_ID}.jpg')\n",
    "cropped = ImageOps.crop(image, 256)\n",
    "cropped.save(\"image_cropped.jpg\")\n",
    "\n",
    "# Define a transform to convert PIL\n",
    "# image to a Torch tensor\n",
    "transform = transforms.Compose([\n",
    "    transforms.PILToTensor()\n",
    "])\n",
    "\n",
    "# transform = transforms.PILToTensor()\n",
    "# Convert the PIL image to Torch tensor\n",
    "img_tensor = transform(cropped)\n",
    "\n",
    "img_tensor = img_tensor.type(torch.LongTensor)\n",
    "\n",
    "# print the converted Torch tensor\n",
    "img_tensor.float()"
   ]
  },
  {
   "cell_type": "code",
   "execution_count": 18,
   "metadata": {},
   "outputs": [],
   "source": [
    "# CONVERTION EN NP.ARRAY,\n",
    "# DEPUIS LE MEME DOSSIER !!!!!!!!!!\n",
    "\n",
    "\n",
    "image_test = Image.open('1203945.jpg')\n",
    "cropped = ImageOps.crop(image, 256)\n",
    "cropped.save(\"image_cropped_1203945.jpg\")\n",
    "\n",
    "np_array = np.array(cropped)\n",
    "\n",
    "print(np_array.shape)"
   ]
  },
  {
   "cell_type": "code",
   "execution_count": null,
   "metadata": {},
   "outputs": [],
   "source": [
    "### VOIR OPEN CV\n",
    "###TENSORFLOW DATASET\n"
   ]
  },
  {
   "cell_type": "code",
   "execution_count": null,
   "metadata": {},
   "outputs": [],
   "source": [
    "from ml_logic.preprocess import crop_and_convert_np_array\n"
   ]
  },
  {
   "cell_type": "code",
   "execution_count": null,
   "metadata": {},
   "outputs": [],
   "source": [
    "\n",
    "model_pipe = Sequential([\n",
    "    layers.Reshape((28, 28, 1), input_shape=(28,28)), #################### <=======!!!!!!\n",
    "    layers.experimental.preprocessing.Rescaling(scale=1./255.),\n",
    "    layers.Conv2D(16, (3,3), padding='same', activation=\"relu\"),\n",
    "    layers.MaxPool2D(pool_size=(2,2)),\n",
    "    layers.Conv2D(32, (2,2), padding='same', activation=\"relu\"),\n",
    "    layers.MaxPool2D(pool_size=(2,2)),\n",
    "    layers.Flatten(),\n",
    "    layers.Dense(50, activation='relu'),\n",
    "    layers.Dropout(0.3),\n",
    "    layers.Dense(10, activation='softmax')"
   ]
  },
  {
   "cell_type": "code",
   "execution_count": null,
   "metadata": {},
   "outputs": [],
   "source": [
    "(X_train, y_train), (X_test, y_test) = mnist.load_data()\n",
    "X_train = X_train / 255.\n",
    "X_test = X_test / 255.\n"
   ]
  }
 ],
 "metadata": {
  "kernelspec": {
   "display_name": "mammo-analysis",
   "language": "python",
   "name": "python3"
  },
  "language_info": {
   "codemirror_mode": {
    "name": "ipython",
    "version": 3
   },
   "file_extension": ".py",
   "mimetype": "text/x-python",
   "name": "python",
   "nbconvert_exporter": "python",
   "pygments_lexer": "ipython3",
   "version": "3.10.6"
  }
 },
 "nbformat": 4,
 "nbformat_minor": 2
}
