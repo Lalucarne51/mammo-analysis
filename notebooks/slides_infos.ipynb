{
 "cells": [
  {
   "cell_type": "markdown",
   "metadata": {},
   "source": [
    "# INFOS SLIDES"
   ]
  },
  {
   "cell_type": "markdown",
   "metadata": {},
   "source": [
    "=> David H. Hubel and Torsen Wiesel performed a series of experiments on cats in 1958, 1959, and a few years later on monkeys,\n",
    "receiving Nobel Prize in Physiology or Medecine in 1981 for their researsh giving insights into the structure of the visual cortex.\n",
    "\n",
    "=> they show that many neurons in the visual cortex have a small local receptive field, meaning they react only to visual stimuli located\n",
    "limited region of the visual field. Receptive fields of different neurons may overlap, and together they tile the whole visual field."
   ]
  },
  {
   "cell_type": "markdown",
   "metadata": {},
   "source": [
    "=> Some neurons only react only to images of horizontal lines, while other reacts to lines with different orientations.\n",
    "Other have larger receptive fiels, and reacts to diffrent and more complex patterns.\n",
    "\n",
    "=> Lead to the idea that higher level neurons ara based on the outputs of neighboring lower-level neurons. \n",
    "\n",
    "==> Give us a poverfull architechture that is abble to detect all sorts of complex patterns in any area of the visual field.\n",
    "\n",
    "============> GAVE BIRTH TO CNN <====================\n",
    "\n",
    "Millestone:Kunihiko Fukushima in 1979, NEOCOGNITRON/   Yann LeCun with LeNet-5 architechture, to recognise hand written papper check for banks."
   ]
  },
  {
   "cell_type": "markdown",
   "metadata": {},
   "source": [
    "Why CNN? Cause less calculation needed to run the model! (system of kernels and filters)."
   ]
  },
  {
   "cell_type": "code",
   "execution_count": null,
   "metadata": {},
   "outputs": [],
   "source": []
  }
 ],
 "metadata": {
  "kernelspec": {
   "display_name": "mammo-analysis",
   "language": "python",
   "name": "python3"
  },
  "language_info": {
   "name": "python",
   "version": "3.10.6"
  }
 },
 "nbformat": 4,
 "nbformat_minor": 2
}
